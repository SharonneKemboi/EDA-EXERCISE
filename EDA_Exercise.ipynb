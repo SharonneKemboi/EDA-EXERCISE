{
  "nbformat": 4,
  "nbformat_minor": 0,
  "metadata": {
    "colab": {
      "provenance": [],
      "authorship_tag": "ABX9TyP0icwLNEhTgcsMlaw1HPWR",
      "include_colab_link": true
    },
    "kernelspec": {
      "name": "python3",
      "display_name": "Python 3"
    },
    "language_info": {
      "name": "python"
    }
  },
  "cells": [
    {
      "cell_type": "markdown",
      "metadata": {
        "id": "view-in-github",
        "colab_type": "text"
      },
      "source": [
        "<a href=\"https://colab.research.google.com/github/SharonneKemboi/EDA-EXERCISE/blob/master/EDA_Exercise.ipynb\" target=\"_parent\"><img src=\"https://colab.research.google.com/assets/colab-badge.svg\" alt=\"Open In Colab\"/></a>"
      ]
    },
    {
      "cell_type": "code",
      "source": [
        "import pandas as pd\n",
        "\n",
        "# Load the dataset\n",
        "url = \"https://raw.githubusercontent.com/dphi-official/First_ML_Model/master/titanic.csv\"\n",
        "df = pd.read_csv(url)\n",
        "\n",
        "# Check for missing values in the 'Fare' column\n",
        "fare_missing = df['Fare'].isnull().sum()\n",
        "\n",
        "# Count male and female passengers\n",
        "gender_counts = df['Sex'].value_counts()\n",
        "\n",
        "fare_missing, gender_counts\n"
      ],
      "metadata": {
        "colab": {
          "base_uri": "https://localhost:8080/"
        },
        "id": "_5tPzGSj76Dn",
        "outputId": "0c6a4fd6-ae58-43f9-d8d5-4785ecd70dc0"
      },
      "execution_count": 4,
      "outputs": [
        {
          "output_type": "execute_result",
          "data": {
            "text/plain": [
              "(0,\n",
              " Sex\n",
              " male      577\n",
              " female    314\n",
              " Name: count, dtype: int64)"
            ]
          },
          "metadata": {},
          "execution_count": 4
        }
      ]
    },
    {
      "cell_type": "code",
      "source": [
        "# Re-run the code to calculate the proportion of passengers who survived\n",
        "\n",
        "# Load the dataset\n",
        "df = pd.read_csv(url)\n",
        "\n",
        "# Calculate the proportion of passengers who survived\n",
        "survival_rate = round(df['Survived'].mean(), 2)\n",
        "survival_rate\n"
      ],
      "metadata": {
        "colab": {
          "base_uri": "https://localhost:8080/"
        },
        "id": "Yw2AqBP68kkI",
        "outputId": "df97087a-45d2-4b3b-eb8b-9f6b4d279d24"
      },
      "execution_count": 5,
      "outputs": [
        {
          "output_type": "execute_result",
          "data": {
            "text/plain": [
              "0.38"
            ]
          },
          "metadata": {},
          "execution_count": 5
        }
      ]
    },
    {
      "cell_type": "code",
      "source": [
        "# Calculate the median Fare\n",
        "median_fare = round(df[\"Fare\"].median(), 4)\n",
        "median_fare\n"
      ],
      "metadata": {
        "colab": {
          "base_uri": "https://localhost:8080/"
        },
        "id": "zQ-6QDn99LxE",
        "outputId": "005f08b8-86af-40c1-e54f-1ff34d698c29"
      },
      "execution_count": 6,
      "outputs": [
        {
          "output_type": "execute_result",
          "data": {
            "text/plain": [
              "14.4542"
            ]
          },
          "metadata": {},
          "execution_count": 6
        }
      ]
    },
    {
      "cell_type": "code",
      "source": [
        "# Calculate survival rates by gender\n",
        "survival_by_gender = df.groupby(\"Sex\")[\"Survived\"].mean()\n",
        "print(\"Survival by Gender:\\n\", survival_by_gender)\n",
        "\n",
        "# Calculate survival rates by class\n",
        "survival_by_class = df.groupby(\"Pclass\")[\"Survived\"].mean()\n",
        "print(\"\\nSurvival by Class:\\n\", survival_by_class)\n",
        "\n",
        "# Define children as passengers under 18\n",
        "df[\"Child\"] = df[\"Age\"] < 18\n",
        "\n",
        "# Calculate survival rates for children vs. adults\n",
        "survival_by_age = df.groupby(\"Child\")[\"Survived\"].mean()\n",
        "print(\"\\nSurvival by Age Group (Children vs. Adults):\\n\", survival_by_age)\n"
      ],
      "metadata": {
        "colab": {
          "base_uri": "https://localhost:8080/"
        },
        "id": "sxWWL9rz9jJV",
        "outputId": "272c1315-9a6e-4d75-9c24-c9e558846d4c"
      },
      "execution_count": 7,
      "outputs": [
        {
          "output_type": "stream",
          "name": "stdout",
          "text": [
            "Survival by Gender:\n",
            " Sex\n",
            "female    0.742038\n",
            "male      0.188908\n",
            "Name: Survived, dtype: float64\n",
            "\n",
            "Survival by Class:\n",
            " Pclass\n",
            "1    0.629630\n",
            "2    0.472826\n",
            "3    0.242363\n",
            "Name: Survived, dtype: float64\n",
            "\n",
            "Survival by Age Group (Children vs. Adults):\n",
            " Child\n",
            "False    0.361183\n",
            "True     0.539823\n",
            "Name: Survived, dtype: float64\n"
          ]
        }
      ]
    },
    {
      "cell_type": "code",
      "source": [
        "# Create a subset of the data for only survived passengers\n",
        "survived_passengers = df[df[\"Survived\"] == 1]\n",
        "\n",
        "# Count the number of survived passengers who embarked from 'Southampton' ('S')\n",
        "survived_from_southampton = survived_passengers[survived_passengers[\"Embarked\"] == \"S\"].shape[0]\n",
        "\n",
        "survived_from_southampton\n"
      ],
      "metadata": {
        "colab": {
          "base_uri": "https://localhost:8080/"
        },
        "id": "gi0qtFwx99Wp",
        "outputId": "efb01b92-b3c2-4f10-fa91-6536441007fa"
      },
      "execution_count": 8,
      "outputs": [
        {
          "output_type": "execute_result",
          "data": {
            "text/plain": [
              "217"
            ]
          },
          "metadata": {},
          "execution_count": 8
        }
      ]
    },
    {
      "cell_type": "code",
      "source": [
        "# Get the five highest fares\n",
        "top_fares = df['Fare'].nlargest(5)\n",
        "print(top_fares)\n"
      ],
      "metadata": {
        "colab": {
          "base_uri": "https://localhost:8080/"
        },
        "id": "CN0spGin-Oow",
        "outputId": "9293d599-fb4e-4a61-9c88-412c867532a5"
      },
      "execution_count": 9,
      "outputs": [
        {
          "output_type": "stream",
          "name": "stdout",
          "text": [
            "258    512.3292\n",
            "679    512.3292\n",
            "737    512.3292\n",
            "27     263.0000\n",
            "88     263.0000\n",
            "Name: Fare, dtype: float64\n"
          ]
        }
      ]
    },
    {
      "cell_type": "code",
      "source": [
        "# Calculate the median age of the passengers\n",
        "median_age = round(df[\"Age\"].median(), 4)\n",
        "median_age\n"
      ],
      "metadata": {
        "colab": {
          "base_uri": "https://localhost:8080/"
        },
        "id": "o5SXCHot-5oQ",
        "outputId": "f0c5bab9-5ea6-40ba-d931-32d61aec7123"
      },
      "execution_count": 10,
      "outputs": [
        {
          "output_type": "execute_result",
          "data": {
            "text/plain": [
              "28.0"
            ]
          },
          "metadata": {},
          "execution_count": 10
        }
      ]
    },
    {
      "cell_type": "code",
      "source": [
        "# Find the most common number of siblings/spouses (mode of SibSp column)\n",
        "most_common_sibsp = df[\"SibSp\"].mode()[0]\n",
        "most_common_sibsp\n"
      ],
      "metadata": {
        "colab": {
          "base_uri": "https://localhost:8080/"
        },
        "id": "ver5BExG_VWl",
        "outputId": "be128653-e24a-4d28-901d-49c89480920b"
      },
      "execution_count": 11,
      "outputs": [
        {
          "output_type": "execute_result",
          "data": {
            "text/plain": [
              "0"
            ]
          },
          "metadata": {},
          "execution_count": 11
        }
      ]
    },
    {
      "cell_type": "code",
      "source": [
        "# Check the survival rate by age group\n",
        "df['Age_Group'] = pd.cut(df['Age'], bins=[0, 12, 18, 40, 60, 100], labels=['Child', 'Teen', 'Adult', 'Middle-Aged', 'Senior'])\n",
        "\n",
        "# Calculate survival rates\n",
        "survival_rates = df.groupby('Age_Group')['Survived'].mean()\n",
        "print(survival_rates)\n"
      ],
      "metadata": {
        "colab": {
          "base_uri": "https://localhost:8080/"
        },
        "id": "rbQ_Okm9_tS3",
        "outputId": "e11c39ae-570c-4a34-f4ec-61cf6aa54fd2"
      },
      "execution_count": 12,
      "outputs": [
        {
          "output_type": "stream",
          "name": "stdout",
          "text": [
            "Age_Group\n",
            "Child          0.579710\n",
            "Teen           0.428571\n",
            "Adult          0.388235\n",
            "Middle-Aged    0.390625\n",
            "Senior         0.227273\n",
            "Name: Survived, dtype: float64\n"
          ]
        },
        {
          "output_type": "stream",
          "name": "stderr",
          "text": [
            "<ipython-input-12-85960bb29374>:5: FutureWarning: The default of observed=False is deprecated and will be changed to True in a future version of pandas. Pass observed=False to retain current behavior or observed=True to adopt the future default and silence this warning.\n",
            "  survival_rates = df.groupby('Age_Group')['Survived'].mean()\n"
          ]
        }
      ]
    }
  ]
}